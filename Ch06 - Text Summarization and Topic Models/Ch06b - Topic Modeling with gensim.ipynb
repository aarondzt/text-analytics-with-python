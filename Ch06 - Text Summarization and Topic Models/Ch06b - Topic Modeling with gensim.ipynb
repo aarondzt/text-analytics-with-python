{
 "cells": [
  {
   "cell_type": "markdown",
   "metadata": {},
   "source": [
    "### Data Extraction"
   ]
  },
  {
   "cell_type": "code",
   "execution_count": 1,
   "metadata": {},
   "outputs": [],
   "source": [
    "f = open('C:/Users/HP/Documents/NLP/slatestarcodex.year.2020.txt', 'r', encoding = 'utf-8')\n",
    "posts2020 = f.read()\n",
    "f = open('C:/Users/HP/Documents/NLP/slatestarcodex.year.2019.txt', 'r', encoding = 'utf-8')\n",
    "posts2019 = f.read()"
   ]
  },
  {
   "cell_type": "code",
   "execution_count": 2,
   "metadata": {},
   "outputs": [],
   "source": [
    "posts2020 = posts2020.split('\\n\\n\\n\\n\\n\\n')\n",
    "posts2019 = posts2019.split('\\n\\n\\n\\n\\n\\n')"
   ]
  },
  {
   "cell_type": "code",
   "execution_count": 3,
   "metadata": {},
   "outputs": [],
   "source": [
    "posts = posts2020 + posts2019"
   ]
  },
  {
   "cell_type": "code",
   "execution_count": 6,
   "metadata": {},
   "outputs": [
    {
     "data": {
      "text/plain": [
       "249"
      ]
     },
     "execution_count": 6,
     "metadata": {},
     "output_type": "execute_result"
    }
   ],
   "source": [
    "len(posts)"
   ]
  },
  {
   "cell_type": "code",
   "execution_count": 4,
   "metadata": {},
   "outputs": [],
   "source": [
    "# for i, post in enumerate(posts):\n",
    "#     print('==========' + str(i) + '==========')\n",
    "#     print(post[:100])"
   ]
  },
  {
   "cell_type": "code",
   "execution_count": 5,
   "metadata": {},
   "outputs": [],
   "source": [
    "import re\n",
    "f = open('C:/Users/HP/Documents/NLP/MySQL_stopwords.txt', 'r', encoding = 'utf-8')\n",
    "stop_words = f.read()\n",
    "stop_words = re.split(' \\t|\\n', stop_words)"
   ]
  },
  {
   "cell_type": "markdown",
   "metadata": {},
   "source": [
    "### Basic Text Wrangling"
   ]
  },
  {
   "cell_type": "code",
   "execution_count": 6,
   "metadata": {},
   "outputs": [
    {
     "name": "stdout",
     "output_type": "stream",
     "text": [
      "Wall time: 8.87 s\n"
     ]
    }
   ],
   "source": [
    "%%time\n",
    "import nltk\n",
    "from nltk import TweetTokenizer\n",
    "# stop_words = nltk.corpus.stopwords.words('english')\n",
    "tokenizer = TweetTokenizer()\n",
    "lemmatizer = nltk.stem.wordnet.WordNetLemmatizer()\n",
    "def normalize_corpora(corpora):\n",
    "    normalized_corpora = []\n",
    "    for corpus in corpora:\n",
    "        # Lowercase\n",
    "        corpus = corpus.lower()\n",
    "        # Replace \n",
    "        corpus = corpus.replace(\"/\", \" \")\n",
    "        corpus = corpus.replace(\"’\", \"'\")\n",
    "        corpus = corpus.replace(\"'s\", \"\")\n",
    "        # Remove numbers\n",
    "        corpus = re.sub('[^A-Za-z-\\']+', ' ', corpus)\n",
    "        # Strip spaces\n",
    "        corpus_tokens = tokenizer.tokenize(corpus)\n",
    "        # Remove stopwords\n",
    "        corpus_tokens = [token for token in corpus_tokens if token not in stop_words]\n",
    "        # Lemmatize\n",
    "        corpus_tokens = [lemmatizer.lemmatize(token) for token in corpus_tokens if not token.isnumeric()]\n",
    "        # Remove single characters\n",
    "        corpus_tokens = [token for token in corpus_tokens if len(token) > 1]\n",
    "        # Remove empty corpus\n",
    "        if corpus_tokens:\n",
    "            normalized_corpora.append(corpus_tokens)\n",
    "    return normalized_corpora\n",
    "normalized_posts = normalize_corpora(posts)"
   ]
  },
  {
   "cell_type": "code",
   "execution_count": 7,
   "metadata": {},
   "outputs": [],
   "source": [
    "posts_no_none = []\n",
    "for post in posts:\n",
    "    post = post.replace(\"\\n\", \" \")\n",
    "    if post:\n",
    "        posts_no_none.append(post)"
   ]
  },
  {
   "cell_type": "markdown",
   "metadata": {},
   "source": [
    "### Text Representation with Feature Engineering"
   ]
  },
  {
   "cell_type": "code",
   "execution_count": 8,
   "metadata": {},
   "outputs": [],
   "source": [
    "import gensim\n",
    "bigram = gensim.models.Phrases(normalized_posts, min_count = 10, threshold = 10, delimiter = b'_')\n",
    "bigram_model = gensim.models.phrases.Phraser(bigram)"
   ]
  },
  {
   "cell_type": "code",
   "execution_count": 9,
   "metadata": {},
   "outputs": [
    {
     "data": {
      "text/plain": [
       "['doctor',\n",
       " 'ninety',\n",
       " 'percent',\n",
       " 'driver',\n",
       " 'above-average',\n",
       " 'driver',\n",
       " 'ninety',\n",
       " 'percent',\n",
       " 'professor',\n",
       " 'above-average',\n",
       " 'professor',\n",
       " 'relevant',\n",
       " 'study',\n",
       " 'paywalled',\n",
       " 'trust',\n",
       " 'recent',\n",
       " 'discussion',\n",
       " 'therapy_book',\n",
       " 'make_sense',\n",
       " 'ninety',\n",
       " 'percent',\n",
       " 'therapist',\n",
       " 'believed',\n",
       " 'above-average',\n",
       " 'therapist',\n",
       " 'pretty',\n",
       " 'ninety',\n",
       " 'percent',\n",
       " 'doctor',\n",
       " 'above-average',\n",
       " 'doctor',\n",
       " 'trap',\n",
       " 'noticed',\n",
       " 'falling',\n",
       " 'explain',\n",
       " 'patient',\n",
       " 'doctor',\n",
       " 'worse',\n",
       " 'good',\n",
       " 'doctor',\n",
       " 'stay',\n",
       " 'patient',\n",
       " 'bad',\n",
       " 'doctor',\n",
       " 'doctor',\n",
       " 'doctor',\n",
       " 'current',\n",
       " 'patient',\n",
       " 'doctor',\n",
       " 'worse']"
      ]
     },
     "execution_count": 9,
     "metadata": {},
     "output_type": "execute_result"
    }
   ],
   "source": [
    "bigram_model[normalized_posts[0]][:50]"
   ]
  },
  {
   "cell_type": "code",
   "execution_count": 10,
   "metadata": {},
   "outputs": [
    {
     "name": "stdout",
     "output_type": "stream",
     "text": [
      "Sample word to number mappings: [(0, 'above-average'), (1, 'absolutely'), (2, 'addiction'), (3, 'addictive'), (4, 'address'), (5, 'afford'), (6, 'annoying'), (7, 'answer'), (8, 'appointment'), (9, 'assume'), (10, 'autonomy'), (11, 'average'), (12, 'avoid'), (13, 'awkward'), (14, 'bad')]\n",
      "Total Vocabulary Size: 22520\n"
     ]
    }
   ],
   "source": [
    "normalized_corpus_bigrams = [bigram_model[post] for post in normalized_posts]\n",
    "# Create a dictionary representation of the documents.\n",
    "dictionary = gensim.corpora.Dictionary(normalized_corpus_bigrams)\n",
    "print('Sample word to number mappings:', list(dictionary.items())[:15])\n",
    "print('Total Vocabulary Size:', len(dictionary))"
   ]
  },
  {
   "cell_type": "code",
   "execution_count": 11,
   "metadata": {},
   "outputs": [
    {
     "name": "stdout",
     "output_type": "stream",
     "text": [
      "Total Vocabulary Size: 4706\n"
     ]
    }
   ],
   "source": [
    "# Filter out words that occur less than 20 documents, or more than 50% of the documents.\n",
    "dictionary.filter_extremes(no_below = 5, no_above = 0.5)\n",
    "print('Total Vocabulary Size:', len(dictionary))"
   ]
  },
  {
   "cell_type": "code",
   "execution_count": 12,
   "metadata": {},
   "outputs": [
    {
     "name": "stdout",
     "output_type": "stream",
     "text": [
      "[(0, 1), (1, 1), (2, 1), (3, 1), (4, 1), (5, 1), (6, 1), (7, 2), (8, 1), (9, 2), (10, 1), (11, 1), (12, 1), (13, 2), (14, 1), (15, 1), (16, 1), (17, 1), (18, 1), (19, 1), (20, 5), (21, 1), (22, 1), (23, 6), (24, 1), (25, 1), (26, 1), (27, 1), (28, 2), (29, 1), (30, 1), (31, 1), (32, 1), (33, 1), (34, 1), (35, 1), (36, 1), (37, 1), (38, 1), (39, 1), (40, 1), (41, 1), (42, 1), (43, 3), (44, 1), (45, 1), (46, 1), (47, 1), (48, 2), (49, 1)]\n"
     ]
    }
   ],
   "source": [
    "# Transforming corpus into bag of words vectors\n",
    "bow_corpus = [dictionary.doc2bow(text) for text in normalized_corpus_bigrams]\n",
    "print(bow_corpus[0][:50])"
   ]
  },
  {
   "cell_type": "code",
   "execution_count": 13,
   "metadata": {},
   "outputs": [
    {
     "name": "stdout",
     "output_type": "stream",
     "text": [
      "[('benefit', 2), ('care', 1), ('focused', 1), ('forget', 1), ('hard', 1), ('left', 1), ('month', 3), ('place', 1), ('practice', 1), ('raise', 1), ('relevant', 1), ('state', 1), ('transfer', 1), ('true', 1), ('worse', 1), ('abuse', 1), ('accusation', 1), ('accused', 1), ('achieved', 1), ('action', 2), ('admit', 1), ('africa', 1), ('agreed', 1), ('algorithm', 1), ('american', 1), ('ancestor', 1), ('ancient', 1), ('argued', 1), ('attention', 1), ('back', 1), ('background', 2), ('ban', 1), ('based', 1), ('basic_income', 1), ('belief', 1), ('bend', 2), ('biden', 2), ('biology', 1), ('bird', 5), ('board', 1), ('building', 1), ('called', 1), ('campaign', 4), ('child', 1), ('chosen', 1), ('citizen', 1), ('city', 2), ('claim', 3), ('close', 1), ('coast', 1)]\n"
     ]
    }
   ],
   "source": [
    "print([(dictionary[idx] , freq) for idx, freq in bow_corpus[1][:50]])"
   ]
  },
  {
   "cell_type": "markdown",
   "metadata": {},
   "source": [
    "### Topic Models with Latent Semantic Indexing (LSI)"
   ]
  },
  {
   "cell_type": "code",
   "execution_count": 14,
   "metadata": {},
   "outputs": [
    {
     "name": "stdout",
     "output_type": "stream",
     "text": [
      "Wall time: 32 s\n"
     ]
    }
   ],
   "source": [
    "%%time\n",
    "TOTAL_TOPICS = 10\n",
    "lsi_bow = gensim.models.LsiModel(bow_corpus, id2word = dictionary, num_topics = TOTAL_TOPICS,\n",
    "                                 onepass = True, chunksize = len(bow_corpus), power_iters = 1000)"
   ]
  },
  {
   "cell_type": "code",
   "execution_count": 15,
   "metadata": {},
   "outputs": [],
   "source": [
    "# for topic_id, topic in lsi_bow.print_topics(num_topics = TOTAL_TOPICS, num_words = 10):\n",
    "#     print('Topic #' + str(topic_id+1) + ':')\n",
    "#     print(topic)\n",
    "#     print()"
   ]
  },
  {
   "cell_type": "code",
   "execution_count": 16,
   "metadata": {},
   "outputs": [
    {
     "name": "stdout",
     "output_type": "stream",
     "text": [
      "Topic #1:\n",
      "==================================================\n",
      "Direction 1: []\n",
      "--------------------------------------------------\n",
      "Direction 2: [('study', -0.161), ('human', -0.147), ('college', -0.139), ('experience', -0.133), ('life', -0.128), ('case', -0.113), ('number', -0.111), ('animal', -0.105), ('book', -0.096), ('government', -0.09), ('bad', -0.088), ('idea', -0.088), ('student', -0.085), ('important', -0.084), ('true', -0.083), ('evidence', -0.081), ('system', -0.079), ('level', -0.079), ('reason', -0.078), ('state', -0.078)]\n",
      "--------------------------------------------------\n",
      "\n",
      "Topic #2:\n",
      "==================================================\n",
      "Direction 1: [('experience', 0.176), ('human', 0.125), ('animal', 0.115), ('study', 0.099), ('life', 0.087)]\n",
      "--------------------------------------------------\n",
      "Direction 2: [('college', -0.608), ('student', -0.294), ('harvard', -0.253), ('school', -0.203), ('number', -0.124), ('admission', -0.113), ('applicant', -0.11), ('increasing', -0.11), ('lawyer', -0.088), ('top', -0.083), ('application', -0.08), ('education', -0.064), ('tuition', -0.064), ('increased', -0.063), ('medical_school', -0.062)]\n",
      "--------------------------------------------------\n",
      "\n",
      "Topic #3:\n",
      "==================================================\n",
      "Direction 1: [('contact', 0.21), ('location', 0.198), ('government', 0.189), ('billionaire', 0.158), ('money', 0.13), ('book', 0.1), ('million', 0.094), ('spending', 0.086), ('power', 0.079)]\n",
      "--------------------------------------------------\n",
      "Direction 2: [('experience', -0.312), ('college', -0.208), ('fetus', -0.162), ('study', -0.161), ('abortion', -0.157), ('human', -0.137), ('animal', -0.124), ('perception', -0.111), ('student', -0.097), ('diet', -0.094), ('harvard', -0.092)]\n",
      "--------------------------------------------------\n",
      "\n",
      "Topic #4:\n",
      "==================================================\n",
      "Direction 1: [('location', 0.504), ('contact', 0.487), ('experience', 0.261), ('detail', 0.185), ('dot', 0.17), ('gmail', 0.136), ('fetus', 0.104), ('october_pm', 0.102), ('abortion', 0.102), ('meetup', 0.101), ('perception', 0.096), ('belief', 0.087), ('college', 0.085), ('st', 0.083), ('city', 0.082), ('god', 0.073)]\n",
      "--------------------------------------------------\n",
      "Direction 2: [('billionaire', -0.081), ('study', -0.078), ('government', -0.076), ('gene', -0.073)]\n",
      "--------------------------------------------------\n",
      "\n",
      "Topic #5:\n",
      "==================================================\n",
      "Direction 1: [('experience', 0.357), ('belief', 0.156), ('god', 0.148), ('perception', 0.13), ('argument', 0.109), ('book', 0.103), ('spiritual_experience', 0.102), ('paradigm', 0.084)]\n",
      "--------------------------------------------------\n",
      "Direction 2: [('study', -0.235), ('animal', -0.234), ('contact', -0.226), ('location', -0.221), ('diet', -0.169), ('gene', -0.155), ('human', -0.127), ('cell', -0.127), ('food', -0.127), ('disease', -0.127), ('chicken', -0.083), ('obesity', -0.081)]\n",
      "--------------------------------------------------\n",
      "\n",
      "Topic #6:\n",
      "==================================================\n",
      "Direction 1: [('fetus', 0.316), ('abortion', 0.308), ('billionaire', 0.252), ('government', 0.207), ('future', 0.169), ('money', 0.158), ('life', 0.14), ('spending', 0.122), ('woman', 0.118), ('charity', 0.108), ('animal', 0.108), ('billionaire_philanthropy', 0.101), ('pregnancy', 0.099), ('mother', 0.099), ('foundation', 0.092)]\n",
      "--------------------------------------------------\n",
      "Direction 2: [('paradigm', -0.174), ('theory', -0.139), ('science', -0.109), ('kuhn', -0.101), ('study', -0.094)]\n",
      "--------------------------------------------------\n",
      "\n",
      "Topic #7:\n",
      "==================================================\n",
      "Direction 1: [('animal', 0.347), ('experience', 0.19), ('chicken', 0.172), ('pig', 0.134), ('billionaire', 0.11), ('meat', 0.103), ('life', 0.102), ('cow', 0.096), ('human', 0.096), ('consciousness', 0.092)]\n",
      "--------------------------------------------------\n",
      "Direction 2: [('fetus', -0.266), ('abortion', -0.259), ('study', -0.175), ('gene', -0.158), ('future', -0.144), ('woman', -0.142), ('disease', -0.118), ('risk', -0.116), ('patient', -0.113), ('case', -0.09)]\n",
      "--------------------------------------------------\n",
      "\n",
      "Topic #8:\n",
      "==================================================\n",
      "Direction 1: [('study', 0.277), ('billionaire', 0.244), ('experience', 0.198), ('gene', 0.192), ('government', 0.166), ('disease', 0.146), ('money', 0.122), ('spending', 0.107), ('charity', 0.098), ('billionaire_philanthropy', 0.097), ('foundation', 0.093), ('effect', 0.092), ('spiritual_experience', 0.089)]\n",
      "--------------------------------------------------\n",
      "Direction 2: [('animal', -0.153), ('fetus', -0.149), ('abortion', -0.145), ('future', -0.113), ('model', -0.104), ('paradigm', -0.103), ('chicken', -0.089)]\n",
      "--------------------------------------------------\n",
      "\n",
      "Topic #9:\n",
      "==================================================\n",
      "Direction 1: [('gene', 0.269), ('cell', 0.23), ('competition', 0.188), ('population', 0.14), ('genetic', 0.14), ('cancer', 0.135), ('slack', 0.122), ('paradigm', 0.115), ('disease', 0.114), ('human', 0.102), ('mutation', 0.1), ('individual', 0.097), ('technology', 0.093), ('evolutionary', 0.091)]\n",
      "--------------------------------------------------\n",
      "Direction 2: [('doctor', -0.197), ('patient', -0.19), ('study', -0.182), ('pain', -0.143), ('drug', -0.138), ('addiction', -0.128)]\n",
      "--------------------------------------------------\n",
      "\n",
      "Topic #10:\n",
      "==================================================\n",
      "Direction 1: [('paradigm', 0.239), ('gene', 0.163), ('kuhn', 0.137), ('science', 0.124), ('patient', 0.11), ('college', 0.099)]\n",
      "--------------------------------------------------\n",
      "Direction 2: [('wage', -0.227), ('worker', -0.189), ('productivity', -0.187), ('inequality', -0.153), ('cycle', -0.15), ('population', -0.143), ('period', -0.134), ('experience', -0.122), ('study', -0.114), ('inflation', -0.112), ('labor', -0.112), ('graph', -0.107), ('trend', -0.106), ('increasing', -0.102)]\n",
      "--------------------------------------------------\n",
      "\n"
     ]
    }
   ],
   "source": [
    "for n in range(TOTAL_TOPICS):\n",
    "    print('Topic #'+str(n+1)+':')\n",
    "    print('=' * 50)\n",
    "    d1 = []\n",
    "    d2 = []\n",
    "    for term, wt in lsi_bow.show_topic(n, topn = 20):\n",
    "        if wt >= 0:\n",
    "            d1.append((term, round(wt, 3)))\n",
    "        else:\n",
    "            d2.append((term, round(wt, 3)))\n",
    "    print('Direction 1:', d1)\n",
    "    print('-'*50)\n",
    "    print('Direction 2:', d2)\n",
    "    print('-'*50)\n",
    "    print()"
   ]
  },
  {
   "cell_type": "code",
   "execution_count": 17,
   "metadata": {},
   "outputs": [
    {
     "data": {
      "text/plain": [
       "((4706, 10), (10,), (10, 247))"
      ]
     },
     "execution_count": 17,
     "metadata": {},
     "output_type": "execute_result"
    }
   ],
   "source": [
    "term_topic = lsi_bow.projection.u\n",
    "singular_values = lsi_bow.projection.s\n",
    "topic_document = (gensim.matutils.corpus2dense(lsi_bow[bow_corpus], len(singular_values)).T / singular_values).T\n",
    "term_topic.shape, singular_values.shape, topic_document.shape"
   ]
  },
  {
   "cell_type": "code",
   "execution_count": 18,
   "metadata": {},
   "outputs": [],
   "source": [
    "import pandas as pd\n",
    "import numpy as np\n",
    "document_topics = pd.DataFrame(np.round(topic_document.T, 3), \n",
    "                               columns=['T' + str(i) for i in range(1, TOTAL_TOPICS+1)])"
   ]
  },
  {
   "cell_type": "code",
   "execution_count": 19,
   "metadata": {},
   "outputs": [
    {
     "name": "stdout",
     "output_type": "stream",
     "text": [
      "Document #50:\n",
      "Dominant Topics (top 3): ['T1', 'T5', 'T6']\n",
      "Paper Summary:\n",
      "Book Review: Origin Of Consciousness In The Breakdown Of The Bicameral Mind\n",
      "\n",
      "\n",
      "I.\n",
      "\n",
      "Julian Jaynes’ The Origin Of Consciousness In The Breakdown Of The Bicameral Mind is a brilliant book, with only two minor flaws. First, that it purports to explains the origin of consciousness. And second, that it posits a breakdown of the bicameral mind. I think it’s possible to route around these flaws while keeping the thesis otherwise intact. So I’m going to start by reviewing a slightly different book, the on\n",
      "\n",
      "Document #100:\n",
      "Dominant Topics (top 3): ['T7', 'T8', 'T5']\n",
      "Paper Summary:\n",
      "OT124: Opentatonic Thread\n",
      "\n",
      "\n",
      "This is the bi-weekly visible open thread (there are also hidden open threads twice a week you can reach through the Open Thread tab on the top of the page). Post about anything you want, but please try to avoid hot-button political and social topics. You can also talk at the SSC subreddit or the SSC Discord server – and also check out the SSC Podcast. Also:\n",
      "\n",
      "1. The DC SSC meetup group is celebrating its second anniversary and wants to throw a party. It’s Saturday Apr\n",
      "\n",
      "Document #150:\n",
      "Dominant Topics (top 3): ['T1', 'T8', 'T2']\n",
      "Paper Summary:\n",
      "Highlights From The Comments On Cultural Evolution\n",
      "\n",
      "\n",
      "Peter Gerdes says:\n",
      "\n",
      "As the examples of the Nicaraguan deaf children left on their own to develop their own language demonstrates (as do other examples) we do create languages very very quickly in a social environment.\n",
      "\n",
      "Creating conlangs is hard not because creating language is fundamentally hard but because we are bad at top down modelling of processes that are the result of a bunch of tiny modifications over time. The distinctive features of \n",
      "\n"
     ]
    }
   ],
   "source": [
    "document_numbers = [50, 100, 150]\n",
    "for document_number in document_numbers:\n",
    "    top_topics = list(document_topics.columns[np.argsort(-np.absolute(document_topics.iloc[document_number].values))[:3]])\n",
    "    print('Document #' + str(document_number) + ':')\n",
    "    print('Dominant Topics (top 3):', top_topics)\n",
    "    print('Paper Summary:')\n",
    "    print(posts[document_number][:500])\n",
    "    print()"
   ]
  },
  {
   "cell_type": "markdown",
   "metadata": {},
   "source": [
    "### Topic Models with Latent Dirichlet Allocation (LDA)"
   ]
  },
  {
   "cell_type": "code",
   "execution_count": 20,
   "metadata": {},
   "outputs": [
    {
     "name": "stdout",
     "output_type": "stream",
     "text": [
      "Wall time: 22.4 s\n"
     ]
    }
   ],
   "source": [
    "%%time\n",
    "lda_model = gensim.models.LdaModel(corpus = bow_corpus, id2word = dictionary, chunksize = len(bow_corpus), \n",
    "                                   alpha = 'auto', eta = 'auto', random_state = 42,\n",
    "                                   iterations = 500, num_topics = TOTAL_TOPICS, \n",
    "                                   passes = 50, eval_every = None)"
   ]
  },
  {
   "cell_type": "code",
   "execution_count": 21,
   "metadata": {},
   "outputs": [
    {
     "name": "stdout",
     "output_type": "stream",
     "text": [
      "Avg. Coherence Score: -1.9371252861506711\n"
     ]
    }
   ],
   "source": [
    "topics_coherences = lda_model.top_topics(bow_corpus, topn=20)\n",
    "avg_coherence_score = np.mean([item[1] for item in topics_coherences])\n",
    "print('Avg. Coherence Score:', avg_coherence_score)"
   ]
  },
  {
   "cell_type": "code",
   "execution_count": 22,
   "metadata": {},
   "outputs": [
    {
     "name": "stdout",
     "output_type": "stream",
     "text": [
      "LDA Topics with Weights\n",
      "==================================================\n",
      "Topic #1:\n",
      "[('patient', 0.007), ('theory', 0.006), ('doctor', 0.005), ('study', 0.004), ('book', 0.004), ('evidence', 0.004), ('human', 0.004), ('mask', 0.004), ('case', 0.004), ('true', 0.003), ('process', 0.003), ('back', 0.003), ('real', 0.003), ('bad', 0.003), ('pain', 0.003), ('culture', 0.003), ('state', 0.003), ('feel', 0.003), ('science', 0.003), ('level', 0.003)]\n",
      "\n",
      "Topic #2:\n",
      "[('idea', 0.008), ('group', 0.006), ('bias', 0.006), ('competition', 0.006), ('child', 0.005), ('survey', 0.005), ('book', 0.005), ('society', 0.005), ('company', 0.005), ('result', 0.004), ('argument', 0.004), ('effect', 0.004), ('question', 0.004), ('system', 0.003), ('woman', 0.003), ('animal', 0.003), ('person', 0.003), ('evolution', 0.003), ('social', 0.003), ('bad', 0.003)]\n",
      "\n",
      "Topic #3:\n",
      "[('government', 0.01), ('money', 0.007), ('country', 0.006), ('article', 0.006), ('coronavirus', 0.005), ('million', 0.005), ('billionaire', 0.005), ('case', 0.005), ('life', 0.004), ('charity', 0.004), ('tax', 0.004), ('bad', 0.003), ('system', 0.003), ('spending', 0.003), ('american', 0.003), ('number', 0.003), ('public', 0.003), ('plan', 0.003), ('state', 0.003), ('cost', 0.003)]\n",
      "\n",
      "Topic #4:\n",
      "[('study', 0.027), ('effect', 0.012), ('gene', 0.011), ('depression', 0.008), ('patient', 0.007), ('disease', 0.007), ('result', 0.007), ('risk', 0.007), ('diet', 0.007), ('human', 0.006), ('cell', 0.006), ('ssri', 0.006), ('antidepressant', 0.005), ('rate', 0.005), ('genetic', 0.004), ('cancer', 0.004), ('higher', 0.004), ('food', 0.004), ('group', 0.004), ('evidence', 0.004)]\n",
      "\n",
      "Topic #5:\n",
      "[('animal', 0.014), ('human', 0.011), ('abortion', 0.008), ('fetus', 0.008), ('life', 0.007), ('future', 0.007), ('chicken', 0.006), ('population', 0.006), ('rate', 0.005), ('experience', 0.005), ('meat', 0.005), ('conscious', 0.005), ('number', 0.004), ('brain', 0.004), ('harm', 0.004), ('woman', 0.004), ('argument', 0.004), ('result', 0.004), ('growth', 0.004), ('consciousness', 0.004)]\n",
      "\n",
      "Topic #6:\n",
      "[('paradigm', 0.006), ('day', 0.004), ('back', 0.004), ('made', 0.004), ('prediction', 0.004), ('company', 0.004), ('drug', 0.004), ('theory', 0.004), ('science', 0.004), ('fda', 0.003), ('wrong', 0.003), ('kuhn', 0.003), ('started', 0.003), ('true', 0.003), ('system', 0.003), ('bad', 0.003), ('thought', 0.003), ('scientific', 0.003), ('great', 0.003), ('earth', 0.003)]\n",
      "\n",
      "Topic #7:\n",
      "[('college', 0.031), ('student', 0.021), ('school', 0.019), ('harvard', 0.012), ('number', 0.008), ('education', 0.006), ('top', 0.006), ('class', 0.005), ('university', 0.005), ('applicant', 0.005), ('application', 0.005), ('admission', 0.005), ('past', 0.004), ('increase', 0.004), ('therapy', 0.004), ('increasing', 0.004), ('doctor', 0.004), ('read', 0.004), ('increased', 0.004), ('rate', 0.004)]\n",
      "\n",
      "Topic #8:\n",
      "[('ai', 0.005), ('gpt', 0.005), ('human', 0.005), ('job', 0.005), ('model', 0.004), ('wage', 0.004), ('word', 0.004), ('book', 0.004), ('period', 0.004), ('number', 0.004), ('worker', 0.003), ('cycle', 0.003), ('thread', 0.003), ('population', 0.003), ('post', 0.003), ('data', 0.003), ('cost', 0.003), ('productivity', 0.003), ('level', 0.003), ('feel', 0.003)]\n",
      "\n",
      "Topic #9:\n",
      "[('experience', 0.025), ('contact', 0.011), ('location', 0.01), ('belief', 0.01), ('god', 0.008), ('perception', 0.008), ('spiritual_experience', 0.007), ('participant', 0.006), ('meetup', 0.006), ('psychedelics', 0.005), ('autism', 0.005), ('detail', 0.005), ('group', 0.004), ('prior', 0.004), ('evidence', 0.004), ('city', 0.004), ('dot', 0.004), ('view', 0.004), ('sense', 0.004), ('religious', 0.004)]\n",
      "\n",
      "Topic #10:\n",
      "[('couple', 0.012), ('marriage', 0.012), ('partner', 0.01), ('open_thread', 0.009), ('wife', 0.008), ('comment', 0.008), ('relationship', 0.007), ('corn', 0.006), ('smell', 0.006), ('conflict', 0.006), ('husband', 0.006), ('study', 0.005), ('love', 0.005), ('ot', 0.005), ('blog', 0.004), ('rule', 0.004), ('therapist', 0.004), ('feel', 0.004), ('divorce', 0.004), ('ssc_subreddit', 0.004)]\n",
      "\n"
     ]
    }
   ],
   "source": [
    "topics_with_wts = [item[0] for item in topics_coherences]\n",
    "print('LDA Topics with Weights')\n",
    "print('='*50)\n",
    "for idx, topic in enumerate(topics_with_wts):\n",
    "    print('Topic #'+str(idx+1)+':')\n",
    "    print([(term, round(wt, 3)) for wt, term in topic])\n",
    "    print()"
   ]
  },
  {
   "cell_type": "code",
   "execution_count": 23,
   "metadata": {},
   "outputs": [
    {
     "name": "stdout",
     "output_type": "stream",
     "text": [
      "Avg. Coherence Score (Cv): 0.3416720490885158\n",
      "Avg. Coherence Score (UMass): -1.9371252861506716\n",
      "Model Perplexity: -7.826103585722698\n"
     ]
    }
   ],
   "source": [
    "cv_coherence_model_lda = gensim.models.CoherenceModel(model = lda_model, corpus = bow_corpus, \n",
    "                                                      texts = normalized_corpus_bigrams,\n",
    "                                                      dictionary = dictionary, \n",
    "                                                      coherence = 'c_v')\n",
    "avg_coherence_cv = cv_coherence_model_lda.get_coherence()\n",
    "umass_coherence_model_lda = gensim.models.CoherenceModel(model = lda_model, corpus = bow_corpus, \n",
    "                                                         texts = normalized_corpus_bigrams,\n",
    "                                                         dictionary = dictionary, \n",
    "                                                         coherence = 'u_mass')\n",
    "avg_coherence_umass = umass_coherence_model_lda.get_coherence()\n",
    "perplexity = lda_model.log_perplexity(bow_corpus)\n",
    "print('Avg. Coherence Score (Cv):', avg_coherence_cv)\n",
    "print('Avg. Coherence Score (UMass):', avg_coherence_umass)\n",
    "print('Model Perplexity:', perplexity)"
   ]
  },
  {
   "cell_type": "markdown",
   "metadata": {},
   "source": [
    "### LDA Tuning - Finding Optimal Number of Topics"
   ]
  },
  {
   "cell_type": "code",
   "execution_count": 24,
   "metadata": {},
   "outputs": [],
   "source": [
    "MALLET_PATH = 'C:/mallet-2.0.8/bin/mallet'\n",
    "import os\n",
    "from gensim.models.wrappers import LdaMallet\n",
    "from tqdm import tqdm\n",
    "os.environ['MALLET_HOME'] = 'C:/mallet-2.0.8'\n",
    "\n",
    "def topic_model_coherence_generator(corpus, texts, dictionary, \n",
    "                                    start_topic_count = 1, end_topic_count = 20, step = 1,\n",
    "                                    cpus = 8):\n",
    "    models = []\n",
    "    coherence_scores = []\n",
    "    for topic_nums in tqdm(range(start_topic_count, end_topic_count + 1, step)):\n",
    "        mallet_lda_model = gensim.models.wrappers.LdaMallet(mallet_path = MALLET_PATH, corpus = corpus,\n",
    "                                                            num_topics = topic_nums, id2word = dictionary,\n",
    "                                                            iterations = 100, workers = cpus, random_seed = 20210224)\n",
    "        cv_coherence_model_mallet_lda = gensim.models.CoherenceModel(model = mallet_lda_model, corpus = corpus, \n",
    "                                                                     texts = texts, dictionary = dictionary, \n",
    "                                                                     coherence = 'c_v')\n",
    "        coherence_score = cv_coherence_model_mallet_lda.get_coherence()\n",
    "        coherence_scores.append(coherence_score)\n",
    "        models.append(mallet_lda_model)\n",
    "    return models, coherence_scores"
   ]
  },
  {
   "cell_type": "code",
   "execution_count": 25,
   "metadata": {},
   "outputs": [
    {
     "name": "stderr",
     "output_type": "stream",
     "text": [
      "100%|██████████████████████████████████████████████████████████████████████████████████| 40/40 [12:36<00:00, 18.92s/it]\n"
     ]
    }
   ],
   "source": [
    "end_topic_count = 40\n",
    "lda_models, coherence_scores = topic_model_coherence_generator(corpus = bow_corpus, texts = normalized_corpus_bigrams,\n",
    "                                                               dictionary = dictionary, start_topic_count = 1,\n",
    "                                                               end_topic_count = end_topic_count, step = 1, cpus = 8)"
   ]
  },
  {
   "cell_type": "code",
   "execution_count": 26,
   "metadata": {},
   "outputs": [],
   "source": [
    "coherence_df = pd.DataFrame({'Number of Topics': range(1, end_topic_count + 1, 1),\n",
    "                             'Coherence Score': np.round(coherence_scores, 4)})\n",
    "coherence_df = coherence_df.sort_values(by = 'Coherence Score', ascending = False).head(10)"
   ]
  },
  {
   "cell_type": "code",
   "execution_count": 27,
   "metadata": {},
   "outputs": [
    {
     "data": {
      "image/png": "[encoded data removed]",
      "text/plain": [
       "<Figure size 864x432 with 1 Axes>"
      ]
     },
     "metadata": {
      "needs_background": "light"
     },
     "output_type": "display_data"
    }
   ],
   "source": [
    "import matplotlib.pyplot as plt\n",
    "plt.style.use('fivethirtyeight')\n",
    "%matplotlib inline\n",
    "\n",
    "x_ax = range(1, end_topic_count + 1, 1)\n",
    "y_ax = coherence_scores\n",
    "plt.figure(figsize=(12, 6))\n",
    "plt.plot(x_ax, y_ax, c = 'r')\n",
    "plt.rcParams['figure.facecolor'] = 'white'\n",
    "xl = plt.xlabel('Number of Topics')\n",
    "yl = plt.ylabel('Coherence Score')"
   ]
  },
  {
   "cell_type": "code",
   "execution_count": 28,
   "metadata": {},
   "outputs": [
    {
     "data": {
      "text/plain": [
       "20"
      ]
     },
     "execution_count": 28,
     "metadata": {},
     "output_type": "execute_result"
    }
   ],
   "source": [
    "best_model_idx = coherence_df['Number of Topics'].index[0]\n",
    "best_lda_model = lda_models[best_model_idx]\n",
    "best_lda_model.num_topics"
   ]
  },
  {
   "cell_type": "code",
   "execution_count": 29,
   "metadata": {},
   "outputs": [
    {
     "name": "stdout",
     "output_type": "stream",
     "text": [
      "Topic #1:\n",
      "['book', 'argument', 'bias', 'person', 'evidence', 'important', 'claim', 'reason', 'position', 'author', 'bad', 'question', 'social', 'action', 'idea', 'conflict', 'case', 'topic', 'society', 'information']\n",
      "\n",
      "Topic #2:\n",
      "['patient', 'brain', 'level', 'therapy', 'depression', 'control', 'system', 'paper', 'treatment', 'disorder', 'study', 'therapist', 'pretty', 'higher', 'wrong', 'high', 'feeling', 'stress', 'talk', 'depressed']\n",
      "\n",
      "Topic #3:\n",
      "['read', 'plan', 'wrong', 'job', 'idea', 'rule', 'discussion', 'feel', 'stop', 'post', 'fight', 'thread', 'making', 'hard', 'reason', 'working', 'internet', 'expected', 'secret', 'game']\n",
      "\n",
      "Topic #4:\n",
      "['article', 'case', 'coronavirus', 'country', 'real', 'study', 'death', 'medical', 'link', 'month', 'medium', 'risk', 'disease', 'related', 'number', 'chance', 'pandemic', 'bad', 'expert', 'virus']\n",
      "\n",
      "Topic #5:\n",
      "['contact', 'location', 'comment', 'post', 'city', 'ssc', 'detail', 'meetup', 'place', 'blog', 'group', 'week', 'house', 'dot', 'interested', 'culture_war', 'room', 'meetups', 'email', 'event']\n",
      "\n",
      "Topic #6:\n",
      "['culture', 'food', 'competition', 'evolution', 'plant', 'machine', 'animal', 'oil', 'found', 'step', 'learn', 'bird', 'technique', 'evolutionary', 'language', 'system', 'water', 'told', 'body', 'complicated']\n",
      "\n",
      "Topic #7:\n",
      "['government', 'money', 'million', 'billionaire', 'charity', 'billion', 'spending', 'power', 'foundation', 'life', 'election', 'politics', 'spend', 'democratic', 'top', 'political', 'fund', 'effort', 'donation', 'donate']\n",
      "\n",
      "Topic #8:\n",
      "['experience', 'god', 'belief', 'perception', 'mind', 'spiritual_experience', 'sense', 'religion', 'subject', 'preference', 'religious', 'thought', 'view', 'object', 'dream', 'nature', 'reality', 'voice', 'spiritual', 'enlightenment']\n",
      "\n",
      "Topic #9:\n",
      "['great', 'history', 'back', 'story', 'war', 'black', 'book', 'put', 'state', 'end', 'start', 'century', 'true', 'america', 'head', 'chapter', 'life', 'stage', 'grain', 'talking']\n",
      "\n",
      "Topic #10:\n",
      "['future', 'human', 'participant', 'prior', 'abortion', 'fetus', 'life', 'due', 'experience', 'case', 'consciousness', 'harm', 'argument', 'development', 'present', 'woman', 'data', 'risk', 'conclusion', 'potential']\n",
      "\n",
      "Topic #11:\n",
      "['study', 'gene', 'diet', 'disease', 'human', 'cell', 'cancer', 'genetic', 'effect', 'result', 'atheist', 'experiment', 'mutation', 'increase', 'obesity', 'population', 'claim', 'mouse', 'atheism', 'individual']\n",
      "\n",
      "Topic #12:\n",
      "['theory', 'model', 'science', 'ai', 'paradigm', 'scientific', 'human', 'scientist', 'space', 'prediction', 'fact', 'understand', 'process', 'language', 'ability', 'kuhn', 'task', 'term', 'energy', 'idea']\n",
      "\n",
      "Topic #13:\n",
      "['company', 'system', 'pay', 'cost', 'policy', 'tax', 'state', 'giving', 'bad', 'care', 'business', 'big', 'society', 'family', 'public', 'money', 'political', 'person', 'government', 'place']\n",
      "\n",
      "Topic #14:\n",
      "['doctor', 'drug', 'gpt', 'day', 'case', 'fda', 'word', 'pain', 'patient', 'learn', 'addiction', 'psychiatrist', 'hour', 'give', 'stop', 'ketamine', 'friend', 'man', 'love', 'move']\n",
      "\n",
      "Topic #15:\n",
      "['made', 'started', 'left', 'happened', 'sound', 'party', 'sort', 'country', 'side', 'modern', 'list', 'finally', 'movement', 'wanted', 'thought', 'idea', 'long', 'bad', 'power', 'city']\n",
      "\n",
      "Topic #16:\n",
      "['college', 'student', 'school', 'harvard', 'prediction', 'number', 'teacher', 'day', 'top', 'education', 'past', 'university', 'end', 'post', 'current', 'month', 'average', 'class', 'application', 'california']\n",
      "\n",
      "Topic #17:\n",
      "['child', 'men', 'survey', 'result', 'question', 'effect', 'woman', 'autism', 'gender', 'answer', 'sample', 'intelligence', 'partner', 'data', 'couple', 'marriage', 'difference', 'iq', 'relationship', 'father']\n",
      "\n",
      "Topic #18:\n",
      "['animal', 'food', 'mask', 'human', 'life', 'eat', 'weight', 'health', 'meat', 'chicken', 'benefit', 'psychedelics', 'pig', 'condition', 'impact', 'eating', 'moral', 'evidence', 'high', 'study']\n",
      "\n",
      "Topic #19:\n",
      "['population', 'period', 'price', 'increase', 'worker', 'cycle', 'graph', 'cost', 'rate', 'wage', 'growth', 'increasing', 'job', 'data', 'trend', 'average', 'number', 'labor', 'productivity', 'income']\n",
      "\n",
      "Topic #20:\n",
      "['study', 'effect', 'feel', 'ssri', 'antidepressant', 'anxiety', 'felt', 'real', 'hard', 'change', 'trauma', 'result', 'test', 'taking', 'side_effect', 'depression', 'sleep', 'helped', 'symptom', 'back']\n",
      "\n"
     ]
    }
   ],
   "source": [
    "topics = [[(term, round(wt, 3)) \n",
    "               for term, wt in best_lda_model.show_topic(n, topn=20)] \n",
    "                   for n in range(0, best_lda_model.num_topics)]\n",
    "for idx, topic in enumerate(topics):\n",
    "    print('Topic #'+str(idx+1)+':')\n",
    "    print([term for term, wt in topic])\n",
    "    print()"
   ]
  },
  {
   "cell_type": "code",
   "execution_count": 30,
   "metadata": {
    "scrolled": false
   },
   "outputs": [
    {
     "data": {
      "text/html": [
       "<div>\n",
       "<style scoped>\n",
       "    .dataframe tbody tr th:only-of-type {\n",
       "        vertical-align: middle;\n",
       "    }\n",
       "\n",
       "    .dataframe tbody tr th {\n",
       "        vertical-align: top;\n",
       "    }\n",
       "\n",
       "    .dataframe thead th {\n",
       "        text-align: right;\n",
       "    }\n",
       "</style>\n",
       "<table border=\"1\" class=\"dataframe\">\n",
       "  <thead>\n",
       "    <tr style=\"text-align: right;\">\n",
       "      <th></th>\n",
       "      <th>Topic Desc</th>\n",
       "    </tr>\n",
       "  </thead>\n",
       "  <tbody>\n",
       "    <tr>\n",
       "      <th>1</th>\n",
       "      <td>book, argument, bias, person, evidence, important, claim, reason, position, author, bad, question, social, action, idea, conflict, case, topic, society, information</td>\n",
       "    </tr>\n",
       "    <tr>\n",
       "      <th>2</th>\n",
       "      <td>patient, brain, level, therapy, depression, control, system, paper, treatment, disorder, study, therapist, pretty, higher, wrong, high, feeling, stress, talk, depressed</td>\n",
       "    </tr>\n",
       "    <tr>\n",
       "      <th>3</th>\n",
       "      <td>read, plan, wrong, job, idea, rule, discussion, feel, stop, post, fight, thread, making, hard, reason, working, internet, expected, secret, game</td>\n",
       "    </tr>\n",
       "    <tr>\n",
       "      <th>4</th>\n",
       "      <td>article, case, coronavirus, country, real, study, death, medical, link, month, medium, risk, disease, related, number, chance, pandemic, bad, expert, virus</td>\n",
       "    </tr>\n",
       "    <tr>\n",
       "      <th>5</th>\n",
       "      <td>contact, location, comment, post, city, ssc, detail, meetup, place, blog, group, week, house, dot, interested, culture_war, room, meetups, email, event</td>\n",
       "    </tr>\n",
       "    <tr>\n",
       "      <th>6</th>\n",
       "      <td>culture, food, competition, evolution, plant, machine, animal, oil, found, step, learn, bird, technique, evolutionary, language, system, water, told, body, complicated</td>\n",
       "    </tr>\n",
       "    <tr>\n",
       "      <th>7</th>\n",
       "      <td>government, money, million, billionaire, charity, billion, spending, power, foundation, life, election, politics, spend, democratic, top, political, fund, effort, donation, donate</td>\n",
       "    </tr>\n",
       "    <tr>\n",
       "      <th>8</th>\n",
       "      <td>experience, god, belief, perception, mind, spiritual_experience, sense, religion, subject, preference, religious, thought, view, object, dream, nature, reality, voice, spiritual, enlightenment</td>\n",
       "    </tr>\n",
       "    <tr>\n",
       "      <th>9</th>\n",
       "      <td>great, history, back, story, war, black, book, put, state, end, start, century, true, america, head, chapter, life, stage, grain, talking</td>\n",
       "    </tr>\n",
       "    <tr>\n",
       "      <th>10</th>\n",
       "      <td>future, human, participant, prior, abortion, fetus, life, due, experience, case, consciousness, harm, argument, development, present, woman, data, risk, conclusion, potential</td>\n",
       "    </tr>\n",
       "    <tr>\n",
       "      <th>11</th>\n",
       "      <td>study, gene, diet, disease, human, cell, cancer, genetic, effect, result, atheist, experiment, mutation, increase, obesity, population, claim, mouse, atheism, individual</td>\n",
       "    </tr>\n",
       "    <tr>\n",
       "      <th>12</th>\n",
       "      <td>theory, model, science, ai, paradigm, scientific, human, scientist, space, prediction, fact, understand, process, language, ability, kuhn, task, term, energy, idea</td>\n",
       "    </tr>\n",
       "    <tr>\n",
       "      <th>13</th>\n",
       "      <td>company, system, pay, cost, policy, tax, state, giving, bad, care, business, big, society, family, public, money, political, person, government, place</td>\n",
       "    </tr>\n",
       "    <tr>\n",
       "      <th>14</th>\n",
       "      <td>doctor, drug, gpt, day, case, fda, word, pain, patient, learn, addiction, psychiatrist, hour, give, stop, ketamine, friend, man, love, move</td>\n",
       "    </tr>\n",
       "    <tr>\n",
       "      <th>15</th>\n",
       "      <td>made, started, left, happened, sound, party, sort, country, side, modern, list, finally, movement, wanted, thought, idea, long, bad, power, city</td>\n",
       "    </tr>\n",
       "    <tr>\n",
       "      <th>16</th>\n",
       "      <td>college, student, school, harvard, prediction, number, teacher, day, top, education, past, university, end, post, current, month, average, class, application, california</td>\n",
       "    </tr>\n",
       "    <tr>\n",
       "      <th>17</th>\n",
       "      <td>child, men, survey, result, question, effect, woman, autism, gender, answer, sample, intelligence, partner, data, couple, marriage, difference, iq, relationship, father</td>\n",
       "    </tr>\n",
       "    <tr>\n",
       "      <th>18</th>\n",
       "      <td>animal, food, mask, human, life, eat, weight, health, meat, chicken, benefit, psychedelics, pig, condition, impact, eating, moral, evidence, high, study</td>\n",
       "    </tr>\n",
       "    <tr>\n",
       "      <th>19</th>\n",
       "      <td>population, period, price, increase, worker, cycle, graph, cost, rate, wage, growth, increasing, job, data, trend, average, number, labor, productivity, income</td>\n",
       "    </tr>\n",
       "    <tr>\n",
       "      <th>20</th>\n",
       "      <td>study, effect, feel, ssri, antidepressant, anxiety, felt, real, hard, change, trauma, result, test, taking, side_effect, depression, sleep, helped, symptom, back</td>\n",
       "    </tr>\n",
       "  </tbody>\n",
       "</table>\n",
       "</div>"
      ],
      "text/plain": [
       "                                                                                                                                                                                          Topic Desc\n",
       "1                               book, argument, bias, person, evidence, important, claim, reason, position, author, bad, question, social, action, idea, conflict, case, topic, society, information\n",
       "2                           patient, brain, level, therapy, depression, control, system, paper, treatment, disorder, study, therapist, pretty, higher, wrong, high, feeling, stress, talk, depressed\n",
       "3                                                   read, plan, wrong, job, idea, rule, discussion, feel, stop, post, fight, thread, making, hard, reason, working, internet, expected, secret, game\n",
       "4                                        article, case, coronavirus, country, real, study, death, medical, link, month, medium, risk, disease, related, number, chance, pandemic, bad, expert, virus\n",
       "5                                            contact, location, comment, post, city, ssc, detail, meetup, place, blog, group, week, house, dot, interested, culture_war, room, meetups, email, event\n",
       "6                            culture, food, competition, evolution, plant, machine, animal, oil, found, step, learn, bird, technique, evolutionary, language, system, water, told, body, complicated\n",
       "7                government, money, million, billionaire, charity, billion, spending, power, foundation, life, election, politics, spend, democratic, top, political, fund, effort, donation, donate\n",
       "8   experience, god, belief, perception, mind, spiritual_experience, sense, religion, subject, preference, religious, thought, view, object, dream, nature, reality, voice, spiritual, enlightenment\n",
       "9                                                          great, history, back, story, war, black, book, put, state, end, start, century, true, america, head, chapter, life, stage, grain, talking\n",
       "10                    future, human, participant, prior, abortion, fetus, life, due, experience, case, consciousness, harm, argument, development, present, woman, data, risk, conclusion, potential\n",
       "11                         study, gene, diet, disease, human, cell, cancer, genetic, effect, result, atheist, experiment, mutation, increase, obesity, population, claim, mouse, atheism, individual\n",
       "12                               theory, model, science, ai, paradigm, scientific, human, scientist, space, prediction, fact, understand, process, language, ability, kuhn, task, term, energy, idea\n",
       "13                                            company, system, pay, cost, policy, tax, state, giving, bad, care, business, big, society, family, public, money, political, person, government, place\n",
       "14                                                       doctor, drug, gpt, day, case, fda, word, pain, patient, learn, addiction, psychiatrist, hour, give, stop, ketamine, friend, man, love, move\n",
       "15                                                  made, started, left, happened, sound, party, sort, country, side, modern, list, finally, movement, wanted, thought, idea, long, bad, power, city\n",
       "16                         college, student, school, harvard, prediction, number, teacher, day, top, education, past, university, end, post, current, month, average, class, application, california\n",
       "17                          child, men, survey, result, question, effect, woman, autism, gender, answer, sample, intelligence, partner, data, couple, marriage, difference, iq, relationship, father\n",
       "18                                          animal, food, mask, human, life, eat, weight, health, meat, chicken, benefit, psychedelics, pig, condition, impact, eating, moral, evidence, high, study\n",
       "19                                   population, period, price, increase, worker, cycle, graph, cost, rate, wage, growth, increasing, job, data, trend, average, number, labor, productivity, income\n",
       "20                                 study, effect, feel, ssri, antidepressant, anxiety, felt, real, hard, change, trauma, result, test, taking, side_effect, depression, sleep, helped, symptom, back"
      ]
     },
     "execution_count": 30,
     "metadata": {},
     "output_type": "execute_result"
    }
   ],
   "source": [
    "pd.set_option('display.max_colwidth', 200)\n",
    "topics_df = pd.DataFrame([', '.join([term for term, wt in topic])  \n",
    "                              for topic in topics],\n",
    "                         columns = ['Topic Desc'],\n",
    "                         index = range(1, best_lda_model.num_topics + 1)\n",
    "                         )\n",
    "topics_df"
   ]
  },
  {
   "cell_type": "markdown",
   "metadata": {},
   "source": [
    "### Interpreting Topic Model Results"
   ]
  },
  {
   "cell_type": "code",
   "execution_count": 31,
   "metadata": {},
   "outputs": [],
   "source": [
    "tm_results = best_lda_model[bow_corpus]"
   ]
  },
  {
   "cell_type": "code",
   "execution_count": 32,
   "metadata": {},
   "outputs": [],
   "source": [
    "corpus_topics = [sorted(topics, key = lambda record: -record[1])[0] for topics in tm_results]"
   ]
  },
  {
   "cell_type": "code",
   "execution_count": 33,
   "metadata": {},
   "outputs": [
    {
     "data": {
      "text/html": [
       "<div>\n",
       "<style scoped>\n",
       "    .dataframe tbody tr th:only-of-type {\n",
       "        vertical-align: middle;\n",
       "    }\n",
       "\n",
       "    .dataframe tbody tr th {\n",
       "        vertical-align: top;\n",
       "    }\n",
       "\n",
       "    .dataframe thead th {\n",
       "        text-align: right;\n",
       "    }\n",
       "</style>\n",
       "<table border=\"1\" class=\"dataframe\">\n",
       "  <thead>\n",
       "    <tr style=\"text-align: right;\">\n",
       "      <th></th>\n",
       "      <th>Document</th>\n",
       "      <th>Dominant Topic</th>\n",
       "      <th>Contribution %</th>\n",
       "      <th>Topic Desc</th>\n",
       "      <th>Post</th>\n",
       "    </tr>\n",
       "  </thead>\n",
       "  <tbody>\n",
       "    <tr>\n",
       "      <th>0</th>\n",
       "      <td>0</td>\n",
       "      <td>2</td>\n",
       "      <td>31.59</td>\n",
       "      <td>patient, brain, level, therapy, depression, control, system, paper, treatment, disorder, study, therapist, pretty, higher, wrong, high, feeling, stress, talk, depressed</td>\n",
       "      <td>Why Doctors Think They’re The Best   Ninety percent of drivers think they’re above-average drivers, ninety percent of professors think they’re above-average professors etc. The relevant studies ar...</td>\n",
       "    </tr>\n",
       "    <tr>\n",
       "      <th>1</th>\n",
       "      <td>1</td>\n",
       "      <td>1</td>\n",
       "      <td>16.73</td>\n",
       "      <td>book, argument, bias, person, evidence, important, claim, reason, position, author, bad, question, social, action, idea, conflict, case, topic, society, information</td>\n",
       "      <td>Hardball Questions For The Next Debate (2020)   [Previously: Hardball Questions (2016), More Hardball Questions (2016). I stole parts of the Buttigieg question from Twitter, but don’t remember eno...</td>\n",
       "    </tr>\n",
       "    <tr>\n",
       "      <th>2</th>\n",
       "      <td>2</td>\n",
       "      <td>14</td>\n",
       "      <td>30.91</td>\n",
       "      <td>doctor, drug, gpt, day, case, fda, word, pain, patient, learn, addiction, psychiatrist, hour, give, stop, ketamine, friend, man, love, move</td>\n",
       "      <td>A Very Unlikely Chess Game   Almost 25 years after Kasparov vs. Deep Blue, another seminal man vs. machine matchup:  Neither competitor has much to be proud of here. White has a poor opening. Blac...</td>\n",
       "    </tr>\n",
       "    <tr>\n",
       "      <th>3</th>\n",
       "      <td>3</td>\n",
       "      <td>12</td>\n",
       "      <td>10.89</td>\n",
       "      <td>theory, model, science, ai, paradigm, scientific, human, scientist, space, prediction, fact, understand, process, language, ability, kuhn, task, term, energy, idea</td>\n",
       "      <td>What Intellectual Progress Did I Make In The 2010s?   One of the best parts of writing a blog is being able to answer questions like this. Whenever I felt like I understood new and important, I wr...</td>\n",
       "    </tr>\n",
       "    <tr>\n",
       "      <th>4</th>\n",
       "      <td>4</td>\n",
       "      <td>10</td>\n",
       "      <td>14.58</td>\n",
       "      <td>future, human, participant, prior, abortion, fetus, life, due, experience, case, consciousness, harm, argument, development, present, woman, data, risk, conclusion, potential</td>\n",
       "      <td>2019 Adversarial Collaboration Winners   Thanks to everyone who participated and/or voted in the 2019 Adversarial Collaboration Contest. And the winner is…  …  …  Adrian Liberman and Calvin Reese,...</td>\n",
       "    </tr>\n",
       "  </tbody>\n",
       "</table>\n",
       "</div>"
      ],
      "text/plain": [
       "   Document  Dominant Topic  Contribution %  \\\n",
       "0         0               2           31.59   \n",
       "1         1               1           16.73   \n",
       "2         2              14           30.91   \n",
       "3         3              12           10.89   \n",
       "4         4              10           14.58   \n",
       "\n",
       "                                                                                                                                                                       Topic Desc  \\\n",
       "0        patient, brain, level, therapy, depression, control, system, paper, treatment, disorder, study, therapist, pretty, higher, wrong, high, feeling, stress, talk, depressed   \n",
       "1            book, argument, bias, person, evidence, important, claim, reason, position, author, bad, question, social, action, idea, conflict, case, topic, society, information   \n",
       "2                                     doctor, drug, gpt, day, case, fda, word, pain, patient, learn, addiction, psychiatrist, hour, give, stop, ketamine, friend, man, love, move   \n",
       "3             theory, model, science, ai, paradigm, scientific, human, scientist, space, prediction, fact, understand, process, language, ability, kuhn, task, term, energy, idea   \n",
       "4  future, human, participant, prior, abortion, fetus, life, due, experience, case, consciousness, harm, argument, development, present, woman, data, risk, conclusion, potential   \n",
       "\n",
       "                                                                                                                                                                                                      Post  \n",
       "0  Why Doctors Think They’re The Best   Ninety percent of drivers think they’re above-average drivers, ninety percent of professors think they’re above-average professors etc. The relevant studies ar...  \n",
       "1  Hardball Questions For The Next Debate (2020)   [Previously: Hardball Questions (2016), More Hardball Questions (2016). I stole parts of the Buttigieg question from Twitter, but don’t remember eno...  \n",
       "2  A Very Unlikely Chess Game   Almost 25 years after Kasparov vs. Deep Blue, another seminal man vs. machine matchup:  Neither competitor has much to be proud of here. White has a poor opening. Blac...  \n",
       "3  What Intellectual Progress Did I Make In The 2010s?   One of the best parts of writing a blog is being able to answer questions like this. Whenever I felt like I understood new and important, I wr...  \n",
       "4  2019 Adversarial Collaboration Winners   Thanks to everyone who participated and/or voted in the 2019 Adversarial Collaboration Contest. And the winner is…  …  …  Adrian Liberman and Calvin Reese,...  "
      ]
     },
     "execution_count": 33,
     "metadata": {},
     "output_type": "execute_result"
    }
   ],
   "source": [
    "corpus_topic_df = pd.DataFrame()\n",
    "corpus_topic_df['Document'] = range(0, len(posts_no_none))\n",
    "corpus_topic_df['Dominant Topic'] = [item[0] + 1 for item in corpus_topics]\n",
    "corpus_topic_df['Contribution %'] = [round(item[1] * 100, 2) for item in corpus_topics]\n",
    "corpus_topic_df['Topic Desc'] = [topics_df.iloc[t[0]]['Topic Desc'] for t in corpus_topics]\n",
    "corpus_topic_df['Post'] = posts_no_none\n",
    "corpus_topic_df.head()"
   ]
  },
  {
   "cell_type": "markdown",
   "metadata": {},
   "source": [
    "### Dominant Topics Distribution across Corpus"
   ]
  },
  {
   "cell_type": "code",
   "execution_count": 34,
   "metadata": {},
   "outputs": [
    {
     "data": {
      "text/html": [
       "<div>\n",
       "<style scoped>\n",
       "    .dataframe tbody tr th:only-of-type {\n",
       "        vertical-align: middle;\n",
       "    }\n",
       "\n",
       "    .dataframe tbody tr th {\n",
       "        vertical-align: top;\n",
       "    }\n",
       "\n",
       "    .dataframe thead th {\n",
       "        text-align: right;\n",
       "    }\n",
       "</style>\n",
       "<table border=\"1\" class=\"dataframe\">\n",
       "  <thead>\n",
       "    <tr style=\"text-align: right;\">\n",
       "      <th></th>\n",
       "      <th># of Docs</th>\n",
       "      <th>% Total Docs</th>\n",
       "      <th>Topic Desc</th>\n",
       "    </tr>\n",
       "    <tr>\n",
       "      <th>Dominant Topic</th>\n",
       "      <th></th>\n",
       "      <th></th>\n",
       "      <th></th>\n",
       "    </tr>\n",
       "  </thead>\n",
       "  <tbody>\n",
       "    <tr>\n",
       "      <th>5</th>\n",
       "      <td>38</td>\n",
       "      <td>15.38</td>\n",
       "      <td>contact, location, comment, post, city, ssc, detail, meetup, place, blog, group, week, house, dot, interested, culture_war, room, meetups, email, event</td>\n",
       "    </tr>\n",
       "    <tr>\n",
       "      <th>17</th>\n",
       "      <td>21</td>\n",
       "      <td>8.50</td>\n",
       "      <td>child, men, survey, result, question, effect, woman, autism, gender, answer, sample, intelligence, partner, data, couple, marriage, difference, iq, relationship, father</td>\n",
       "    </tr>\n",
       "    <tr>\n",
       "      <th>4</th>\n",
       "      <td>20</td>\n",
       "      <td>8.10</td>\n",
       "      <td>article, case, coronavirus, country, real, study, death, medical, link, month, medium, risk, disease, related, number, chance, pandemic, bad, expert, virus</td>\n",
       "    </tr>\n",
       "    <tr>\n",
       "      <th>16</th>\n",
       "      <td>17</td>\n",
       "      <td>6.88</td>\n",
       "      <td>college, student, school, harvard, prediction, number, teacher, day, top, education, past, university, end, post, current, month, average, class, application, california</td>\n",
       "    </tr>\n",
       "    <tr>\n",
       "      <th>8</th>\n",
       "      <td>13</td>\n",
       "      <td>5.26</td>\n",
       "      <td>experience, god, belief, perception, mind, spiritual_experience, sense, religion, subject, preference, religious, thought, view, object, dream, nature, reality, voice, spiritual, enlightenment</td>\n",
       "    </tr>\n",
       "    <tr>\n",
       "      <th>15</th>\n",
       "      <td>13</td>\n",
       "      <td>5.26</td>\n",
       "      <td>made, started, left, happened, sound, party, sort, country, side, modern, list, finally, movement, wanted, thought, idea, long, bad, power, city</td>\n",
       "    </tr>\n",
       "    <tr>\n",
       "      <th>3</th>\n",
       "      <td>12</td>\n",
       "      <td>4.86</td>\n",
       "      <td>read, plan, wrong, job, idea, rule, discussion, feel, stop, post, fight, thread, making, hard, reason, working, internet, expected, secret, game</td>\n",
       "    </tr>\n",
       "    <tr>\n",
       "      <th>6</th>\n",
       "      <td>12</td>\n",
       "      <td>4.86</td>\n",
       "      <td>culture, food, competition, evolution, plant, machine, animal, oil, found, step, learn, bird, technique, evolutionary, language, system, water, told, body, complicated</td>\n",
       "    </tr>\n",
       "    <tr>\n",
       "      <th>2</th>\n",
       "      <td>12</td>\n",
       "      <td>4.86</td>\n",
       "      <td>patient, brain, level, therapy, depression, control, system, paper, treatment, disorder, study, therapist, pretty, higher, wrong, high, feeling, stress, talk, depressed</td>\n",
       "    </tr>\n",
       "    <tr>\n",
       "      <th>12</th>\n",
       "      <td>12</td>\n",
       "      <td>4.86</td>\n",
       "      <td>theory, model, science, ai, paradigm, scientific, human, scientist, space, prediction, fact, understand, process, language, ability, kuhn, task, term, energy, idea</td>\n",
       "    </tr>\n",
       "    <tr>\n",
       "      <th>7</th>\n",
       "      <td>11</td>\n",
       "      <td>4.45</td>\n",
       "      <td>government, money, million, billionaire, charity, billion, spending, power, foundation, life, election, politics, spend, democratic, top, political, fund, effort, donation, donate</td>\n",
       "    </tr>\n",
       "    <tr>\n",
       "      <th>19</th>\n",
       "      <td>10</td>\n",
       "      <td>4.05</td>\n",
       "      <td>population, period, price, increase, worker, cycle, graph, cost, rate, wage, growth, increasing, job, data, trend, average, number, labor, productivity, income</td>\n",
       "    </tr>\n",
       "    <tr>\n",
       "      <th>18</th>\n",
       "      <td>10</td>\n",
       "      <td>4.05</td>\n",
       "      <td>animal, food, mask, human, life, eat, weight, health, meat, chicken, benefit, psychedelics, pig, condition, impact, eating, moral, evidence, high, study</td>\n",
       "    </tr>\n",
       "    <tr>\n",
       "      <th>13</th>\n",
       "      <td>10</td>\n",
       "      <td>4.05</td>\n",
       "      <td>company, system, pay, cost, policy, tax, state, giving, bad, care, business, big, society, family, public, money, political, person, government, place</td>\n",
       "    </tr>\n",
       "    <tr>\n",
       "      <th>14</th>\n",
       "      <td>10</td>\n",
       "      <td>4.05</td>\n",
       "      <td>doctor, drug, gpt, day, case, fda, word, pain, patient, learn, addiction, psychiatrist, hour, give, stop, ketamine, friend, man, love, move</td>\n",
       "    </tr>\n",
       "    <tr>\n",
       "      <th>1</th>\n",
       "      <td>7</td>\n",
       "      <td>2.83</td>\n",
       "      <td>book, argument, bias, person, evidence, important, claim, reason, position, author, bad, question, social, action, idea, conflict, case, topic, society, information</td>\n",
       "    </tr>\n",
       "    <tr>\n",
       "      <th>20</th>\n",
       "      <td>6</td>\n",
       "      <td>2.43</td>\n",
       "      <td>study, effect, feel, ssri, antidepressant, anxiety, felt, real, hard, change, trauma, result, test, taking, side_effect, depression, sleep, helped, symptom, back</td>\n",
       "    </tr>\n",
       "    <tr>\n",
       "      <th>9</th>\n",
       "      <td>6</td>\n",
       "      <td>2.43</td>\n",
       "      <td>great, history, back, story, war, black, book, put, state, end, start, century, true, america, head, chapter, life, stage, grain, talking</td>\n",
       "    </tr>\n",
       "    <tr>\n",
       "      <th>10</th>\n",
       "      <td>5</td>\n",
       "      <td>2.02</td>\n",
       "      <td>future, human, participant, prior, abortion, fetus, life, due, experience, case, consciousness, harm, argument, development, present, woman, data, risk, conclusion, potential</td>\n",
       "    </tr>\n",
       "    <tr>\n",
       "      <th>11</th>\n",
       "      <td>2</td>\n",
       "      <td>0.81</td>\n",
       "      <td>study, gene, diet, disease, human, cell, cancer, genetic, effect, result, atheist, experiment, mutation, increase, obesity, population, claim, mouse, atheism, individual</td>\n",
       "    </tr>\n",
       "  </tbody>\n",
       "</table>\n",
       "</div>"
      ],
      "text/plain": [
       "                # of Docs  % Total Docs  \\\n",
       "Dominant Topic                            \n",
       "5                      38         15.38   \n",
       "17                     21          8.50   \n",
       "4                      20          8.10   \n",
       "16                     17          6.88   \n",
       "8                      13          5.26   \n",
       "15                     13          5.26   \n",
       "3                      12          4.86   \n",
       "6                      12          4.86   \n",
       "2                      12          4.86   \n",
       "12                     12          4.86   \n",
       "7                      11          4.45   \n",
       "19                     10          4.05   \n",
       "18                     10          4.05   \n",
       "13                     10          4.05   \n",
       "14                     10          4.05   \n",
       "1                       7          2.83   \n",
       "20                      6          2.43   \n",
       "9                       6          2.43   \n",
       "10                      5          2.02   \n",
       "11                      2          0.81   \n",
       "\n",
       "                                                                                                                                                                                                      Topic Desc  \n",
       "Dominant Topic                                                                                                                                                                                                    \n",
       "5                                                        contact, location, comment, post, city, ssc, detail, meetup, place, blog, group, week, house, dot, interested, culture_war, room, meetups, email, event  \n",
       "17                                      child, men, survey, result, question, effect, woman, autism, gender, answer, sample, intelligence, partner, data, couple, marriage, difference, iq, relationship, father  \n",
       "4                                                    article, case, coronavirus, country, real, study, death, medical, link, month, medium, risk, disease, related, number, chance, pandemic, bad, expert, virus  \n",
       "16                                     college, student, school, harvard, prediction, number, teacher, day, top, education, past, university, end, post, current, month, average, class, application, california  \n",
       "8               experience, god, belief, perception, mind, spiritual_experience, sense, religion, subject, preference, religious, thought, view, object, dream, nature, reality, voice, spiritual, enlightenment  \n",
       "15                                                              made, started, left, happened, sound, party, sort, country, side, modern, list, finally, movement, wanted, thought, idea, long, bad, power, city  \n",
       "3                                                               read, plan, wrong, job, idea, rule, discussion, feel, stop, post, fight, thread, making, hard, reason, working, internet, expected, secret, game  \n",
       "6                                        culture, food, competition, evolution, plant, machine, animal, oil, found, step, learn, bird, technique, evolutionary, language, system, water, told, body, complicated  \n",
       "2                                       patient, brain, level, therapy, depression, control, system, paper, treatment, disorder, study, therapist, pretty, higher, wrong, high, feeling, stress, talk, depressed  \n",
       "12                                           theory, model, science, ai, paradigm, scientific, human, scientist, space, prediction, fact, understand, process, language, ability, kuhn, task, term, energy, idea  \n",
       "7                            government, money, million, billionaire, charity, billion, spending, power, foundation, life, election, politics, spend, democratic, top, political, fund, effort, donation, donate  \n",
       "19                                               population, period, price, increase, worker, cycle, graph, cost, rate, wage, growth, increasing, job, data, trend, average, number, labor, productivity, income  \n",
       "18                                                      animal, food, mask, human, life, eat, weight, health, meat, chicken, benefit, psychedelics, pig, condition, impact, eating, moral, evidence, high, study  \n",
       "13                                                        company, system, pay, cost, policy, tax, state, giving, bad, care, business, big, society, family, public, money, political, person, government, place  \n",
       "14                                                                   doctor, drug, gpt, day, case, fda, word, pain, patient, learn, addiction, psychiatrist, hour, give, stop, ketamine, friend, man, love, move  \n",
       "1                                           book, argument, bias, person, evidence, important, claim, reason, position, author, bad, question, social, action, idea, conflict, case, topic, society, information  \n",
       "20                                             study, effect, feel, ssri, antidepressant, anxiety, felt, real, hard, change, trauma, result, test, taking, side_effect, depression, sleep, helped, symptom, back  \n",
       "9                                                                      great, history, back, story, war, black, book, put, state, end, start, century, true, america, head, chapter, life, stage, grain, talking  \n",
       "10                                future, human, participant, prior, abortion, fetus, life, due, experience, case, consciousness, harm, argument, development, present, woman, data, risk, conclusion, potential  \n",
       "11                                     study, gene, diet, disease, human, cell, cancer, genetic, effect, result, atheist, experiment, mutation, increase, obesity, population, claim, mouse, atheism, individual  "
      ]
     },
     "execution_count": 34,
     "metadata": {},
     "output_type": "execute_result"
    }
   ],
   "source": [
    "topic_stats_df = corpus_topic_df.groupby('Dominant Topic').count()\n",
    "topic_stats_df = topic_stats_df.drop(['Contribution %', 'Topic Desc', 'Post'], axis = 1)\n",
    "topic_stats_df.columns = ['# of Docs']\n",
    "topic_stats_df['% Total Docs'] = round(100 * topic_stats_df['# of Docs'] / sum(topic_stats_df['# of Docs']), 2)\n",
    "topic_stats_df['Topic Desc'] = topics_df['Topic Desc']\n",
    "topic_stats_df.sort_values('% Total Docs', ascending = False)"
   ]
  },
  {
   "cell_type": "markdown",
   "metadata": {},
   "source": [
    "### Relevant Posts per Topic based on Dominance"
   ]
  },
  {
   "cell_type": "code",
   "execution_count": 35,
   "metadata": {},
   "outputs": [
    {
     "data": {
      "text/html": [
       "<div>\n",
       "<style scoped>\n",
       "    .dataframe tbody tr th:only-of-type {\n",
       "        vertical-align: middle;\n",
       "    }\n",
       "\n",
       "    .dataframe tbody tr th {\n",
       "        vertical-align: top;\n",
       "    }\n",
       "\n",
       "    .dataframe thead th {\n",
       "        text-align: right;\n",
       "    }\n",
       "</style>\n",
       "<table border=\"1\" class=\"dataframe\">\n",
       "  <thead>\n",
       "    <tr style=\"text-align: right;\">\n",
       "      <th></th>\n",
       "      <th>Document</th>\n",
       "      <th>Dominant Topic</th>\n",
       "      <th>Contribution %</th>\n",
       "      <th>Topic Desc</th>\n",
       "      <th>Post</th>\n",
       "    </tr>\n",
       "    <tr>\n",
       "      <th>Dominant Topic</th>\n",
       "      <th></th>\n",
       "      <th></th>\n",
       "      <th></th>\n",
       "      <th></th>\n",
       "      <th></th>\n",
       "    </tr>\n",
       "  </thead>\n",
       "  <tbody>\n",
       "    <tr>\n",
       "      <th>5</th>\n",
       "      <td>195</td>\n",
       "      <td>5</td>\n",
       "      <td>78.20</td>\n",
       "      <td>contact, location, comment, post, city, ssc, detail, meetup, place, blog, group, week, house, dot, interested, culture_war, room, meetups, email, event</td>\n",
       "      <td>SSC Meetups 2019: Times And Places   Thanks to everyone who offered to host a meetup. Full list of cities, times, and places is below. If you’re reading this, you’re invited. Please don’t feel lik...</td>\n",
       "    </tr>\n",
       "    <tr>\n",
       "      <th>10</th>\n",
       "      <td>236</td>\n",
       "      <td>10</td>\n",
       "      <td>71.98</td>\n",
       "      <td>future, human, participant, prior, abortion, fetus, life, due, experience, case, consciousness, harm, argument, development, present, woman, data, risk, conclusion, potential</td>\n",
       "      <td>[ACC] When During Fetal Development Does Abortion Become Morally Wrong?   [This is an entry to the 2019 Adversarial Collaboration Contest by BlockOfNihilism and Icerun]  Note: For simplicity, we h...</td>\n",
       "    </tr>\n",
       "    <tr>\n",
       "      <th>9</th>\n",
       "      <td>47</td>\n",
       "      <td>9</td>\n",
       "      <td>63.00</td>\n",
       "      <td>great, history, back, story, war, black, book, put, state, end, start, century, true, america, head, chapter, life, stage, grain, talking</td>\n",
       "      <td>Pictured: Ebony Raven and “a huge black flame floating in the middle of the air.” If Ebony had accepted Hagrid, he would have turned into Harry, united with her for the second alchemical wedding, ...</td>\n",
       "    </tr>\n",
       "    <tr>\n",
       "      <th>19</th>\n",
       "      <td>121</td>\n",
       "      <td>19</td>\n",
       "      <td>60.94</td>\n",
       "      <td>population, period, price, increase, worker, cycle, graph, cost, rate, wage, growth, increasing, job, data, trend, average, number, labor, productivity, income</td>\n",
       "      <td>1960: The Year The Singularity Was Cancelled   [Epistemic status: Very speculative, especially Parts 3 and 4. Like many good things, this post is based on a conversation with Paul Christiano; most...</td>\n",
       "    </tr>\n",
       "    <tr>\n",
       "      <th>17</th>\n",
       "      <td>9</td>\n",
       "      <td>17</td>\n",
       "      <td>57.17</td>\n",
       "      <td>child, men, survey, result, question, effect, woman, autism, gender, answer, sample, intelligence, partner, data, couple, marriage, difference, iq, relationship, father</td>\n",
       "      <td>Assortative Mating And Autism   Introduction  Assortative mating is when similar people marry and have children. Some people worry about assortative mating in Silicon Valley: highly analytical tec...</td>\n",
       "    </tr>\n",
       "    <tr>\n",
       "      <th>1</th>\n",
       "      <td>172</td>\n",
       "      <td>1</td>\n",
       "      <td>54.69</td>\n",
       "      <td>book, argument, bias, person, evidence, important, claim, reason, position, author, bad, question, social, action, idea, conflict, case, topic, society, information</td>\n",
       "      <td>Caution On Bias Arguments   “You say it’s important to overcome biases. So isn’t it hypocritical that you’re not trying to overcome whichever bias prevents you from realizing you’re wrong and I’m ...</td>\n",
       "    </tr>\n",
       "    <tr>\n",
       "      <th>12</th>\n",
       "      <td>68</td>\n",
       "      <td>12</td>\n",
       "      <td>51.99</td>\n",
       "      <td>theory, model, science, ai, paradigm, scientific, human, scientist, space, prediction, fact, understand, process, language, ability, kuhn, task, term, energy, idea</td>\n",
       "      <td>Highlights From The Comments On Kuhn   Thanks to everyone who commented on the review of The Structure Of Scientific Revolutions.  From David Chapman:  It’s important to remember that Kuhn wrote t...</td>\n",
       "    </tr>\n",
       "    <tr>\n",
       "      <th>16</th>\n",
       "      <td>110</td>\n",
       "      <td>16</td>\n",
       "      <td>50.01</td>\n",
       "      <td>college, student, school, harvard, prediction, number, teacher, day, top, education, past, university, end, post, current, month, average, class, application, california</td>\n",
       "      <td>Increasingly Competitive College Admissions: Much More Than You Wanted To Know   0: Introduction  This is from businessstudent.com:  Acceptance rates at top colleges have declined by about half ov...</td>\n",
       "    </tr>\n",
       "    <tr>\n",
       "      <th>8</th>\n",
       "      <td>242</td>\n",
       "      <td>8</td>\n",
       "      <td>49.98</td>\n",
       "      <td>experience, god, belief, perception, mind, spiritual_experience, sense, religion, subject, preference, religious, thought, view, object, dream, nature, reality, voice, spiritual, enlightenment</td>\n",
       "      <td>While realizing that not everyone who has had a spiritual experience assigns any particular significance or interpretation to that experience, never mind formulating a specific theistic argument o...</td>\n",
       "    </tr>\n",
       "    <tr>\n",
       "      <th>11</th>\n",
       "      <td>235</td>\n",
       "      <td>11</td>\n",
       "      <td>49.88</td>\n",
       "      <td>study, gene, diet, disease, human, cell, cancer, genetic, effect, result, atheist, experiment, mutation, increase, obesity, population, claim, mouse, atheism, individual</td>\n",
       "      <td>[ACC] Should Gene Editing Technologies Be Used In Humans?   [This is an entry to the 2019 Adversarial Collaboration Contest by Nita J and Patrick N.]  Introduction  In October 2018, the world’s fi...</td>\n",
       "    </tr>\n",
       "    <tr>\n",
       "      <th>6</th>\n",
       "      <td>43</td>\n",
       "      <td>6</td>\n",
       "      <td>49.78</td>\n",
       "      <td>culture, food, competition, evolution, plant, machine, animal, oil, found, step, learn, bird, technique, evolutionary, language, system, water, told, body, complicated</td>\n",
       "      <td>Studies On Slack   I.  Imagine a distant planet full of eyeless animals. Evolving eyes is hard: they need to evolve Eye Part 1, then Eye Part 2, then Eye Part 3, in that order. Each of these requi...</td>\n",
       "    </tr>\n",
       "    <tr>\n",
       "      <th>20</th>\n",
       "      <td>17</td>\n",
       "      <td>20</td>\n",
       "      <td>48.70</td>\n",
       "      <td>study, effect, feel, ssri, antidepressant, anxiety, felt, real, hard, change, trauma, result, test, taking, side_effect, depression, sleep, helped, symptom, back</td>\n",
       "      <td>Sleep Support: An Individual Randomized Controlled Trial   I worry my sleep quality isn’t great. On weekends, no matter when I go to bed, I sleep until 11 or 12. When I wake up, I feel like I’ve o...</td>\n",
       "    </tr>\n",
       "    <tr>\n",
       "      <th>18</th>\n",
       "      <td>101</td>\n",
       "      <td>18</td>\n",
       "      <td>47.91</td>\n",
       "      <td>animal, food, mask, human, life, eat, weight, health, meat, chicken, benefit, psychedelics, pig, condition, impact, eating, moral, evidence, high, study</td>\n",
       "      <td>[PARTIALLY RETRACTED] Cortical Neuron Number Matches Intuitive Perceptions Of Moral Value Across Animals   [EDIT: No longer confident in this post, see here.]  Yesterday’s post reviewed research s...</td>\n",
       "    </tr>\n",
       "    <tr>\n",
       "      <th>7</th>\n",
       "      <td>197</td>\n",
       "      <td>7</td>\n",
       "      <td>47.26</td>\n",
       "      <td>government, money, million, billionaire, charity, billion, spending, power, foundation, life, election, politics, spend, democratic, top, political, fund, effort, donation, donate</td>\n",
       "      <td>Too Much Dark Money In Almonds   Everyone always talks about how much money there is in politics. This is the wrong framing. The right framing is Ansolabehere et al’s: why is there so little money...</td>\n",
       "    </tr>\n",
       "    <tr>\n",
       "      <th>14</th>\n",
       "      <td>93</td>\n",
       "      <td>14</td>\n",
       "      <td>39.66</td>\n",
       "      <td>doctor, drug, gpt, day, case, fda, word, pain, patient, learn, addiction, psychiatrist, hour, give, stop, ketamine, friend, man, love, move</td>\n",
       "      <td>Ketamine: Now By Prescription   Last week the FDA approved esketamine for treatment-resistant depression.  Let’s review how the pharmaceutical industry works: a company discovers and patents a pot...</td>\n",
       "    </tr>\n",
       "    <tr>\n",
       "      <th>2</th>\n",
       "      <td>169</td>\n",
       "      <td>2</td>\n",
       "      <td>35.69</td>\n",
       "      <td>patient, brain, level, therapy, depression, control, system, paper, treatment, disorder, study, therapist, pretty, higher, wrong, high, feeling, stress, talk, depressed</td>\n",
       "      <td>Do People Like Their Mental Health Care?   Along with more specific questions, I asked people who took the SSC survey to rate their experience with the mental health system on a 1 – 10 scale.  Abo...</td>\n",
       "    </tr>\n",
       "    <tr>\n",
       "      <th>13</th>\n",
       "      <td>27</td>\n",
       "      <td>13</td>\n",
       "      <td>34.00</td>\n",
       "      <td>company, system, pay, cost, policy, tax, state, giving, bad, care, business, big, society, family, public, money, political, person, government, place</td>\n",
       "      <td>Legal Systems Very Different From Ours, Because I Just Made Them Up   [with apologies to the real Legal Systems Very Different From Ours. See also the List Of Fictional Drugs Banned By The FDA]  I...</td>\n",
       "    </tr>\n",
       "    <tr>\n",
       "      <th>4</th>\n",
       "      <td>35</td>\n",
       "      <td>4</td>\n",
       "      <td>33.01</td>\n",
       "      <td>article, case, coronavirus, country, real, study, death, medical, link, month, medium, risk, disease, related, number, chance, pandemic, bad, expert, virus</td>\n",
       "      <td>A Failure, But Not Of Prediction   I.  Vox asks What Went Wrong With The Media’s Coronavirus Coverage? They conclude that the media needs to be better at “not just saying what we do know, but what...</td>\n",
       "    </tr>\n",
       "    <tr>\n",
       "      <th>15</th>\n",
       "      <td>174</td>\n",
       "      <td>15</td>\n",
       "      <td>31.86</td>\n",
       "      <td>made, started, left, happened, sound, party, sort, country, side, modern, list, finally, movement, wanted, thought, idea, long, bad, power, city</td>\n",
       "      <td>Book Review: The Electric Kool-Aid Acid Test   Ken Kesey, graduating college in Oregon with several wrestling championships and a creative writing degree, made a classic mistake: he moved to the S...</td>\n",
       "    </tr>\n",
       "    <tr>\n",
       "      <th>3</th>\n",
       "      <td>87</td>\n",
       "      <td>3</td>\n",
       "      <td>28.41</td>\n",
       "      <td>read, plan, wrong, job, idea, rule, discussion, feel, stop, post, fight, thread, making, hard, reason, working, internet, expected, secret, game</td>\n",
       "      <td>Rule Thinkers In, Not Out   Imagine a black box which, when you pressed a button, would generate a scientific hypothesis. 50% of its hypotheses are false; 50% are true hypotheses as game-changing ...</td>\n",
       "    </tr>\n",
       "  </tbody>\n",
       "</table>\n",
       "</div>"
      ],
      "text/plain": [
       "                Document  Dominant Topic  Contribution %  \\\n",
       "Dominant Topic                                             \n",
       "5                    195               5           78.20   \n",
       "10                   236              10           71.98   \n",
       "9                     47               9           63.00   \n",
       "19                   121              19           60.94   \n",
       "17                     9              17           57.17   \n",
       "1                    172               1           54.69   \n",
       "12                    68              12           51.99   \n",
       "16                   110              16           50.01   \n",
       "8                    242               8           49.98   \n",
       "11                   235              11           49.88   \n",
       "6                     43               6           49.78   \n",
       "20                    17              20           48.70   \n",
       "18                   101              18           47.91   \n",
       "7                    197               7           47.26   \n",
       "14                    93              14           39.66   \n",
       "2                    169               2           35.69   \n",
       "13                    27              13           34.00   \n",
       "4                     35               4           33.01   \n",
       "15                   174              15           31.86   \n",
       "3                     87               3           28.41   \n",
       "\n",
       "                                                                                                                                                                                                      Topic Desc  \\\n",
       "Dominant Topic                                                                                                                                                                                                     \n",
       "5                                                        contact, location, comment, post, city, ssc, detail, meetup, place, blog, group, week, house, dot, interested, culture_war, room, meetups, email, event   \n",
       "10                                future, human, participant, prior, abortion, fetus, life, due, experience, case, consciousness, harm, argument, development, present, woman, data, risk, conclusion, potential   \n",
       "9                                                                      great, history, back, story, war, black, book, put, state, end, start, century, true, america, head, chapter, life, stage, grain, talking   \n",
       "19                                               population, period, price, increase, worker, cycle, graph, cost, rate, wage, growth, increasing, job, data, trend, average, number, labor, productivity, income   \n",
       "17                                      child, men, survey, result, question, effect, woman, autism, gender, answer, sample, intelligence, partner, data, couple, marriage, difference, iq, relationship, father   \n",
       "1                                           book, argument, bias, person, evidence, important, claim, reason, position, author, bad, question, social, action, idea, conflict, case, topic, society, information   \n",
       "12                                           theory, model, science, ai, paradigm, scientific, human, scientist, space, prediction, fact, understand, process, language, ability, kuhn, task, term, energy, idea   \n",
       "16                                     college, student, school, harvard, prediction, number, teacher, day, top, education, past, university, end, post, current, month, average, class, application, california   \n",
       "8               experience, god, belief, perception, mind, spiritual_experience, sense, religion, subject, preference, religious, thought, view, object, dream, nature, reality, voice, spiritual, enlightenment   \n",
       "11                                     study, gene, diet, disease, human, cell, cancer, genetic, effect, result, atheist, experiment, mutation, increase, obesity, population, claim, mouse, atheism, individual   \n",
       "6                                        culture, food, competition, evolution, plant, machine, animal, oil, found, step, learn, bird, technique, evolutionary, language, system, water, told, body, complicated   \n",
       "20                                             study, effect, feel, ssri, antidepressant, anxiety, felt, real, hard, change, trauma, result, test, taking, side_effect, depression, sleep, helped, symptom, back   \n",
       "18                                                      animal, food, mask, human, life, eat, weight, health, meat, chicken, benefit, psychedelics, pig, condition, impact, eating, moral, evidence, high, study   \n",
       "7                            government, money, million, billionaire, charity, billion, spending, power, foundation, life, election, politics, spend, democratic, top, political, fund, effort, donation, donate   \n",
       "14                                                                   doctor, drug, gpt, day, case, fda, word, pain, patient, learn, addiction, psychiatrist, hour, give, stop, ketamine, friend, man, love, move   \n",
       "2                                       patient, brain, level, therapy, depression, control, system, paper, treatment, disorder, study, therapist, pretty, higher, wrong, high, feeling, stress, talk, depressed   \n",
       "13                                                        company, system, pay, cost, policy, tax, state, giving, bad, care, business, big, society, family, public, money, political, person, government, place   \n",
       "4                                                    article, case, coronavirus, country, real, study, death, medical, link, month, medium, risk, disease, related, number, chance, pandemic, bad, expert, virus   \n",
       "15                                                              made, started, left, happened, sound, party, sort, country, side, modern, list, finally, movement, wanted, thought, idea, long, bad, power, city   \n",
       "3                                                               read, plan, wrong, job, idea, rule, discussion, feel, stop, post, fight, thread, making, hard, reason, working, internet, expected, secret, game   \n",
       "\n",
       "                                                                                                                                                                                                                   Post  \n",
       "Dominant Topic                                                                                                                                                                                                           \n",
       "5               SSC Meetups 2019: Times And Places   Thanks to everyone who offered to host a meetup. Full list of cities, times, and places is below. If you’re reading this, you’re invited. Please don’t feel lik...  \n",
       "10              [ACC] When During Fetal Development Does Abortion Become Morally Wrong?   [This is an entry to the 2019 Adversarial Collaboration Contest by BlockOfNihilism and Icerun]  Note: For simplicity, we h...  \n",
       "9               Pictured: Ebony Raven and “a huge black flame floating in the middle of the air.” If Ebony had accepted Hagrid, he would have turned into Harry, united with her for the second alchemical wedding, ...  \n",
       "19              1960: The Year The Singularity Was Cancelled   [Epistemic status: Very speculative, especially Parts 3 and 4. Like many good things, this post is based on a conversation with Paul Christiano; most...  \n",
       "17              Assortative Mating And Autism   Introduction  Assortative mating is when similar people marry and have children. Some people worry about assortative mating in Silicon Valley: highly analytical tec...  \n",
       "1               Caution On Bias Arguments   “You say it’s important to overcome biases. So isn’t it hypocritical that you’re not trying to overcome whichever bias prevents you from realizing you’re wrong and I’m ...  \n",
       "12              Highlights From The Comments On Kuhn   Thanks to everyone who commented on the review of The Structure Of Scientific Revolutions.  From David Chapman:  It’s important to remember that Kuhn wrote t...  \n",
       "16              Increasingly Competitive College Admissions: Much More Than You Wanted To Know   0: Introduction  This is from businessstudent.com:  Acceptance rates at top colleges have declined by about half ov...  \n",
       "8               While realizing that not everyone who has had a spiritual experience assigns any particular significance or interpretation to that experience, never mind formulating a specific theistic argument o...  \n",
       "11              [ACC] Should Gene Editing Technologies Be Used In Humans?   [This is an entry to the 2019 Adversarial Collaboration Contest by Nita J and Patrick N.]  Introduction  In October 2018, the world’s fi...  \n",
       "6               Studies On Slack   I.  Imagine a distant planet full of eyeless animals. Evolving eyes is hard: they need to evolve Eye Part 1, then Eye Part 2, then Eye Part 3, in that order. Each of these requi...  \n",
       "20              Sleep Support: An Individual Randomized Controlled Trial   I worry my sleep quality isn’t great. On weekends, no matter when I go to bed, I sleep until 11 or 12. When I wake up, I feel like I’ve o...  \n",
       "18              [PARTIALLY RETRACTED] Cortical Neuron Number Matches Intuitive Perceptions Of Moral Value Across Animals   [EDIT: No longer confident in this post, see here.]  Yesterday’s post reviewed research s...  \n",
       "7               Too Much Dark Money In Almonds   Everyone always talks about how much money there is in politics. This is the wrong framing. The right framing is Ansolabehere et al’s: why is there so little money...  \n",
       "14              Ketamine: Now By Prescription   Last week the FDA approved esketamine for treatment-resistant depression.  Let’s review how the pharmaceutical industry works: a company discovers and patents a pot...  \n",
       "2               Do People Like Their Mental Health Care?   Along with more specific questions, I asked people who took the SSC survey to rate their experience with the mental health system on a 1 – 10 scale.  Abo...  \n",
       "13              Legal Systems Very Different From Ours, Because I Just Made Them Up   [with apologies to the real Legal Systems Very Different From Ours. See also the List Of Fictional Drugs Banned By The FDA]  I...  \n",
       "4               A Failure, But Not Of Prediction   I.  Vox asks What Went Wrong With The Media’s Coronavirus Coverage? They conclude that the media needs to be better at “not just saying what we do know, but what...  \n",
       "15              Book Review: The Electric Kool-Aid Acid Test   Ken Kesey, graduating college in Oregon with several wrestling championships and a creative writing degree, made a classic mistake: he moved to the S...  \n",
       "3               Rule Thinkers In, Not Out   Imagine a black box which, when you pressed a button, would generate a scientific hypothesis. 50% of its hypotheses are false; 50% are true hypotheses as game-changing ...  "
      ]
     },
     "execution_count": 35,
     "metadata": {},
     "output_type": "execute_result"
    }
   ],
   "source": [
    "relevant_posts = corpus_topic_df.groupby('Dominant Topic') \\\n",
    ".apply(lambda topic_set: (topic_set.sort_values(by=['Contribution %'], ascending=False).iloc[0]))\n",
    "relevant_posts.sort_values('Contribution %', ascending = False)"
   ]
  }
 ],
 "metadata": {
  "kernelspec": {
   "display_name": "Python 3",
   "language": "python",
   "name": "python3"
  },
  "language_info": {
   "codemirror_mode": {
    "name": "ipython",
    "version": 3
   },
   "file_extension": ".py",
   "mimetype": "text/x-python",
   "name": "python",
   "nbconvert_exporter": "python",
   "pygments_lexer": "ipython3",
   "version": "3.8.8"
  }
 },
 "nbformat": 4,
 "nbformat_minor": 2
}
